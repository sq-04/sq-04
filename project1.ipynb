{
 "cells": [
  {
   "cell_type": "markdown",
   "id": "b7a6c310-1936-41c9-921e-5a87cc2b7519",
   "metadata": {
    "tags": []
   },
   "source": [
    "#### Create the sakila database and database objects by passing the sakila-database.sql file to the MySQL CLI: mysql < sakila-database.sql"
   ]
  },
  {
   "cell_type": "code",
   "execution_count": 1,
   "id": "652f8b5f-421b-46fc-af80-71498d380205",
   "metadata": {
    "tags": []
   },
   "outputs": [
    {
     "name": "stdout",
     "output_type": "stream",
     "text": [
      "env: INSTANCE=mysql\n"
     ]
    }
   ],
   "source": [
    "%env INSTANCE=mysql"
   ]
  },
  {
   "cell_type": "code",
   "execution_count": 2,
   "id": "cdf3c5e5-7314-4c93-b5bc-b960d2ed00ba",
   "metadata": {
    "tags": []
   },
   "outputs": [
    {
     "name": "stdout",
     "output_type": "stream",
     "text": [
      "Copying gs://cs327e-open-access-2/sakila.zip...\n",
      "/ [1 files][786.4 KiB/786.4 KiB]                                                \n",
      "Operation completed over 1 objects/786.4 KiB.                                    \n"
     ]
    }
   ],
   "source": [
    "!gsutil cp gs://cs327e-open-access-2/sakila.zip ."
   ]
  },
  {
   "cell_type": "code",
   "execution_count": 3,
   "id": "abdee921-1fb5-417b-93e2-d898ffa24824",
   "metadata": {
    "tags": []
   },
   "outputs": [
    {
     "name": "stdout",
     "output_type": "stream",
     "text": [
      "Archive:  sakila.zip\n",
      "  inflating: sakila/.DS_Store        \n",
      "  inflating: sakila/sakila_schema.png  \n",
      "  inflating: sakila/sakila-data.sql  \n",
      "  inflating: sakila/sakila-database.sql  \n"
     ]
    }
   ],
   "source": [
    "!unzip -o sakila.zip #I fixed the permission bit bc if you add -o you skip the promp(use either this line or the next)"
   ]
  },
  {
   "cell_type": "code",
   "execution_count": 4,
   "id": "45ba1029-7501-4d5d-8c71-3a92847c92c1",
   "metadata": {
    "tags": []
   },
   "outputs": [],
   "source": [
    "# !unzip -o -d sakila sakila.zip -x \"*.DS_Store\""
   ]
  },
  {
   "cell_type": "code",
   "execution_count": 5,
   "id": "b4d9da48-2a47-462b-985e-b69ddd25da61",
   "metadata": {
    "tags": []
   },
   "outputs": [],
   "source": [
    "!mysql < /home/jupyter/sakila/sakila-database.sql #(fixed the address)"
   ]
  },
  {
   "cell_type": "code",
   "execution_count": 6,
   "id": "2fea444a-b685-461a-bebe-a95322b5f42f",
   "metadata": {
    "tags": []
   },
   "outputs": [
    {
     "name": "stdout",
     "output_type": "stream",
     "text": [
      "+----------------------------+\n",
      "| Tables_in_sakila           |\n",
      "+----------------------------+\n",
      "| actor                      |\n",
      "| actor_info                 |\n",
      "| address                    |\n",
      "| category                   |\n",
      "| city                       |\n",
      "| country                    |\n",
      "| customer                   |\n",
      "| customer_list              |\n",
      "| film                       |\n",
      "| film_actor                 |\n",
      "| film_category              |\n",
      "| film_list                  |\n",
      "| film_text                  |\n",
      "| inventory                  |\n",
      "| language                   |\n",
      "| nicer_but_slower_film_list |\n",
      "| payment                    |\n",
      "| rental                     |\n",
      "| sales_by_film_category     |\n",
      "| sales_by_store             |\n",
      "| staff                      |\n",
      "| staff_list                 |\n",
      "| store                      |\n",
      "+----------------------------+\n"
     ]
    }
   ],
   "source": [
    "!mysql sakila -e \"show tables\""
   ]
  },
  {
   "cell_type": "markdown",
   "id": "59deb549-774a-4d19-a32c-95fbb8b2dfc7",
   "metadata": {},
   "source": [
    "#### Populate the tables by passing the sakila-data.sql file to the MySQL CLI:mysql < sakila-data.sql"
   ]
  },
  {
   "cell_type": "code",
   "execution_count": 7,
   "id": "5b60a837-8cd0-47f5-8a30-fcf524e0a2a5",
   "metadata": {},
   "outputs": [],
   "source": [
    "!mysql < /home/jupyter/sakila/sakila-data.sql"
   ]
  },
  {
   "cell_type": "markdown",
   "id": "d8bdd7b1-8dff-453a-b889-3a81df858f29",
   "metadata": {},
   "source": [
    "#### Write queries to get a row count for five of the tables in the database. Include the five SQL statements."
   ]
  },
  {
   "cell_type": "code",
   "execution_count": 8,
   "id": "87b7eeba-e6ca-4c42-915a-9b10ec6dc950",
   "metadata": {},
   "outputs": [
    {
     "name": "stdout",
     "output_type": "stream",
     "text": [
      "+----------+\n",
      "| COUNT(*) |\n",
      "+----------+\n",
      "|      200 |\n",
      "+----------+\n"
     ]
    }
   ],
   "source": [
    "!mysql sakila -e \"SELECT COUNT(*) FROM actor\""
   ]
  },
  {
   "cell_type": "code",
   "execution_count": 9,
   "id": "868e5b7e-a0aa-4dfe-8c42-def16b3f3f4a",
   "metadata": {
    "tags": []
   },
   "outputs": [
    {
     "name": "stdout",
     "output_type": "stream",
     "text": [
      "+----------+\n",
      "| COUNT(*) |\n",
      "+----------+\n",
      "|     1000 |\n",
      "+----------+\n"
     ]
    }
   ],
   "source": [
    "!mysql sakila -e \"SELECT COUNT(*) FROM film_category\""
   ]
  },
  {
   "cell_type": "code",
   "execution_count": 10,
   "id": "43f68e24-6c30-4fda-b1a4-4523d1818a2c",
   "metadata": {
    "tags": []
   },
   "outputs": [
    {
     "name": "stdout",
     "output_type": "stream",
     "text": [
      "+----------+\n",
      "| COUNT(*) |\n",
      "+----------+\n",
      "|      603 |\n",
      "+----------+\n"
     ]
    }
   ],
   "source": [
    "!mysql sakila -e \"SELECT COUNT(*) FROM address\""
   ]
  },
  {
   "cell_type": "code",
   "execution_count": 11,
   "id": "6bc30927-de9f-4ef8-ac4a-505ee8aa0ee9",
   "metadata": {
    "tags": []
   },
   "outputs": [
    {
     "name": "stdout",
     "output_type": "stream",
     "text": [
      "+----------+\n",
      "| COUNT(*) |\n",
      "+----------+\n",
      "|       16 |\n",
      "+----------+\n"
     ]
    }
   ],
   "source": [
    "!mysql sakila -e \"SELECT COUNT(*) FROM category\""
   ]
  },
  {
   "cell_type": "code",
   "execution_count": 12,
   "id": "780dc85e-0af3-436f-830b-d90f1d723062",
   "metadata": {
    "tags": []
   },
   "outputs": [
    {
     "name": "stdout",
     "output_type": "stream",
     "text": [
      "+----------+\n",
      "| COUNT(*) |\n",
      "+----------+\n",
      "|      600 |\n",
      "+----------+\n"
     ]
    }
   ],
   "source": [
    "!mysql sakila -e \"SELECT COUNT(*) FROM city\""
   ]
  },
  {
   "cell_type": "markdown",
   "id": "c4b757c1-bcdd-49e3-ac79-a48a27e0b84d",
   "metadata": {},
   "source": [
    "#### Write five queries to sample a few rows (showing only a few of the columns) from five of the tables, using the LIMIT clause."
   ]
  },
  {
   "cell_type": "code",
   "execution_count": 13,
   "id": "b980895e-1cde-4318-a1e6-80aa839e13bb",
   "metadata": {},
   "outputs": [
    {
     "name": "stdout",
     "output_type": "stream",
     "text": [
      "+----------+------------+-----------+\n",
      "| ACTOR_ID | FIRST_NAME | LAST_NAME |\n",
      "+----------+------------+-----------+\n",
      "|        1 | PENELOPE   | GUINESS   |\n",
      "|        2 | NICK       | WAHLBERG  |\n",
      "|        3 | ED         | CHASE     |\n",
      "+----------+------------+-----------+\n"
     ]
    }
   ],
   "source": [
    "!mysql sakila -e \"SELECT ACTOR_ID, FIRST_NAME, LAST_NAME  FROM actor LIMIT 3\""
   ]
  },
  {
   "cell_type": "code",
   "execution_count": 14,
   "id": "08bbead2-98e7-4162-bc16-7ded1d930a04",
   "metadata": {
    "tags": []
   },
   "outputs": [
    {
     "name": "stdout",
     "output_type": "stream",
     "text": [
      "+---------+-------------+---------------------+\n",
      "| FILM_ID | CATEGORY_ID | LAST_UPDATE         |\n",
      "+---------+-------------+---------------------+\n",
      "|       1 |           6 | 2006-02-15 05:07:09 |\n",
      "|       2 |          11 | 2006-02-15 05:07:09 |\n",
      "|       3 |           6 | 2006-02-15 05:07:09 |\n",
      "+---------+-------------+---------------------+\n"
     ]
    }
   ],
   "source": [
    "!mysql sakila -e \"SELECT FILM_ID, CATEGORY_ID, LAST_UPDATE FROM film_category LIMIT 3\""
   ]
  },
  {
   "cell_type": "code",
   "execution_count": 15,
   "id": "4c9c6300-06a9-4b2e-ae6f-65a4135b6d4e",
   "metadata": {
    "tags": []
   },
   "outputs": [
    {
     "name": "stdout",
     "output_type": "stream",
     "text": [
      "+------------+--------------------+----------+\n",
      "| ADDRESS_ID | ADDRESS            | DISTRICT |\n",
      "+------------+--------------------+----------+\n",
      "|          1 | 47 MySakila Drive  | Alberta  |\n",
      "|          2 | 28 MySQL Boulevard | QLD      |\n",
      "|          3 | 23 Workhaven Lane  | Alberta  |\n",
      "+------------+--------------------+----------+\n"
     ]
    }
   ],
   "source": [
    "!mysql sakila -e \"SELECT ADDRESS_ID, ADDRESS, DISTRICT FROM address LIMIT 3\""
   ]
  },
  {
   "cell_type": "code",
   "execution_count": 16,
   "id": "50b56fe2-4a8a-4795-8b53-b7c561e87f9c",
   "metadata": {
    "tags": []
   },
   "outputs": [
    {
     "name": "stdout",
     "output_type": "stream",
     "text": [
      "+-------------+-----------+---------------------+\n",
      "| CATEGORY_ID | NAME      | LAST_UPDATE         |\n",
      "+-------------+-----------+---------------------+\n",
      "|           1 | Action    | 2006-02-15 04:46:27 |\n",
      "|           2 | Animation | 2006-02-15 04:46:27 |\n",
      "|           3 | Children  | 2006-02-15 04:46:27 |\n",
      "+-------------+-----------+---------------------+\n"
     ]
    }
   ],
   "source": [
    "!mysql sakila -e \"SELECT CATEGORY_ID, NAME, LAST_UPDATE FROM category LIMIT 3\""
   ]
  },
  {
   "cell_type": "code",
   "execution_count": 17,
   "id": "fb108bf6-f999-4123-a2af-0918ab5bb0cf",
   "metadata": {
    "tags": []
   },
   "outputs": [
    {
     "name": "stdout",
     "output_type": "stream",
     "text": [
      "+--------------------+---------+------------+\n",
      "| CITY               | CITY_ID | COUNTRY_ID |\n",
      "+--------------------+---------+------------+\n",
      "| A Corua (La Corua) |       1 |         87 |\n",
      "| Abha               |       2 |         82 |\n",
      "| Abu Dhabi          |       3 |        101 |\n",
      "+--------------------+---------+------------+\n"
     ]
    }
   ],
   "source": [
    "!mysql sakila -e \"SELECT CITY, CITY_ID, COUNTRY_ID FROM city LIMIT 3\""
   ]
  },
  {
   "cell_type": "markdown",
   "id": "cf67435e-e6bc-4f3d-b5b3-bde700beaf62",
   "metadata": {},
   "source": [
    "#### Write a query (on any one table) that uses both a WHERE clause and an ORDER BY clause. Add a short comment above your SQL statement to describe the query."
   ]
  },
  {
   "cell_type": "code",
   "execution_count": 19,
   "id": "d9a6f453-7415-4676-85cc-707781b19b47",
   "metadata": {},
   "outputs": [
    {
     "name": "stdout",
     "output_type": "stream",
     "text": [
      "+--------------------+\n",
      "| CITY               |\n",
      "+--------------------+\n",
      "| Paarl              |\n",
      "| Pachuca de Soto    |\n",
      "| Pak Kret           |\n",
      "| Palghat (Palakkad) |\n",
      "| Pangkal Pinang     |\n",
      "| Papeete            |\n",
      "| Parbhani           |\n",
      "| Pathankot          |\n",
      "| Patiala            |\n",
      "| Patras             |\n",
      "| Pavlodar           |\n",
      "| Pemalang           |\n",
      "| Peoria             |\n",
      "| Pereira            |\n",
      "| Phnom Penh         |\n",
      "| Pingxiang          |\n",
      "| Pjatigorsk         |\n",
      "| Plock              |\n",
      "| Po                 |\n",
      "| Ponce              |\n",
      "| Pontianak          |\n",
      "| Poos de Caldas     |\n",
      "| Portoviejo         |\n",
      "| Probolinggo        |\n",
      "| Pudukkottai        |\n",
      "| Pune               |\n",
      "| Purnea (Purnia)    |\n",
      "| Purwakarta         |\n",
      "| Pyongyang          |\n",
      "+--------------------+\n"
     ]
    }
   ],
   "source": [
    "# Description: Select all columns in table city where the name of the City starts with a \"P\" and is ordered alphabetically\n",
    "!mysql sakila -e \"SELECT CITY FROM city WHERE CITY LIKE 'P%' ORDER BY CITY\""
   ]
  },
  {
   "cell_type": "markdown",
   "id": "9aa53056-2c4b-4e03-96b3-b70cb19c2b37",
   "metadata": {},
   "source": [
    "#### Write an INSERT statement to add a row into any one of the tables (*: make sure it is not a View by looking at its CREATE statement in the file sakila-database.sql). Add a short comment above your SQL statement to describe the statement."
   ]
  },
  {
   "cell_type": "code",
   "execution_count": 20,
   "id": "7ed30bcf-8853-4fc1-835c-381ef5e9b70d",
   "metadata": {},
   "outputs": [
    {
     "name": "stdout",
     "output_type": "stream",
     "text": [
      "+----------+-------------+--------------+---------------------+\n",
      "| actor_id | first_name  | last_name    | last_update         |\n",
      "+----------+-------------+--------------+---------------------+\n",
      "|        1 | PENELOPE    | GUINESS      | 2006-02-15 04:34:33 |\n",
      "|        2 | NICK        | WAHLBERG     | 2006-02-15 04:34:33 |\n",
      "|        3 | ED          | CHASE        | 2006-02-15 04:34:33 |\n",
      "|        4 | JENNIFER    | DAVIS        | 2006-02-15 04:34:33 |\n",
      "|        5 | JOHNNY      | LOLLOBRIGIDA | 2006-02-15 04:34:33 |\n",
      "|        6 | BETTE       | NICHOLSON    | 2006-02-15 04:34:33 |\n",
      "|        7 | GRACE       | MOSTEL       | 2006-02-15 04:34:33 |\n",
      "|        8 | MATTHEW     | JOHANSSON    | 2006-02-15 04:34:33 |\n",
      "|        9 | JOE         | SWANK        | 2006-02-15 04:34:33 |\n",
      "|       10 | CHRISTIAN   | GABLE        | 2006-02-15 04:34:33 |\n",
      "|       11 | ZERO        | CAGE         | 2006-02-15 04:34:33 |\n",
      "|       12 | KARL        | BERRY        | 2006-02-15 04:34:33 |\n",
      "|       13 | UMA         | WOOD         | 2006-02-15 04:34:33 |\n",
      "|       14 | VIVIEN      | BERGEN       | 2006-02-15 04:34:33 |\n",
      "|       15 | CUBA        | OLIVIER      | 2006-02-15 04:34:33 |\n",
      "|       16 | FRED        | COSTNER      | 2006-02-15 04:34:33 |\n",
      "|       17 | HELEN       | VOIGHT       | 2006-02-15 04:34:33 |\n",
      "|       18 | DAN         | TORN         | 2006-02-15 04:34:33 |\n",
      "|       19 | BOB         | FAWCETT      | 2006-02-15 04:34:33 |\n",
      "|       20 | LUCILLE     | TRACY        | 2006-02-15 04:34:33 |\n",
      "|       21 | KIRSTEN     | PALTROW      | 2006-02-15 04:34:33 |\n",
      "|       22 | ELVIS       | MARX         | 2006-02-15 04:34:33 |\n",
      "|       23 | SANDRA      | KILMER       | 2006-02-15 04:34:33 |\n",
      "|       24 | CAMERON     | STREEP       | 2006-02-15 04:34:33 |\n",
      "|       25 | KEVIN       | BLOOM        | 2006-02-15 04:34:33 |\n",
      "|       26 | RIP         | CRAWFORD     | 2006-02-15 04:34:33 |\n",
      "|       27 | JULIA       | MCQUEEN      | 2006-02-15 04:34:33 |\n",
      "|       28 | WOODY       | HOFFMAN      | 2006-02-15 04:34:33 |\n",
      "|       29 | ALEC        | WAYNE        | 2006-02-15 04:34:33 |\n",
      "|       30 | SANDRA      | PECK         | 2006-02-15 04:34:33 |\n",
      "|       31 | SISSY       | SOBIESKI     | 2006-02-15 04:34:33 |\n",
      "|       32 | TIM         | HACKMAN      | 2006-02-15 04:34:33 |\n",
      "|       33 | MILLA       | PECK         | 2006-02-15 04:34:33 |\n",
      "|       34 | AUDREY      | OLIVIER      | 2006-02-15 04:34:33 |\n",
      "|       35 | JUDY        | DEAN         | 2006-02-15 04:34:33 |\n",
      "|       36 | BURT        | DUKAKIS      | 2006-02-15 04:34:33 |\n",
      "|       37 | VAL         | BOLGER       | 2006-02-15 04:34:33 |\n",
      "|       38 | TOM         | MCKELLEN     | 2006-02-15 04:34:33 |\n",
      "|       39 | GOLDIE      | BRODY        | 2006-02-15 04:34:33 |\n",
      "|       40 | JOHNNY      | CAGE         | 2006-02-15 04:34:33 |\n",
      "|       41 | JODIE       | DEGENERES    | 2006-02-15 04:34:33 |\n",
      "|       42 | TOM         | MIRANDA      | 2006-02-15 04:34:33 |\n",
      "|       43 | KIRK        | JOVOVICH     | 2006-02-15 04:34:33 |\n",
      "|       44 | NICK        | STALLONE     | 2006-02-15 04:34:33 |\n",
      "|       45 | REESE       | KILMER       | 2006-02-15 04:34:33 |\n",
      "|       46 | PARKER      | GOLDBERG     | 2006-02-15 04:34:33 |\n",
      "|       47 | JULIA       | BARRYMORE    | 2006-02-15 04:34:33 |\n",
      "|       48 | FRANCES     | DAY-LEWIS    | 2006-02-15 04:34:33 |\n",
      "|       49 | ANNE        | CRONYN       | 2006-02-15 04:34:33 |\n",
      "|       50 | NATALIE     | HOPKINS      | 2006-02-15 04:34:33 |\n",
      "|       51 | GARY        | PHOENIX      | 2006-02-15 04:34:33 |\n",
      "|       52 | CARMEN      | HUNT         | 2006-02-15 04:34:33 |\n",
      "|       53 | MENA        | TEMPLE       | 2006-02-15 04:34:33 |\n",
      "|       54 | PENELOPE    | PINKETT      | 2006-02-15 04:34:33 |\n",
      "|       55 | FAY         | KILMER       | 2006-02-15 04:34:33 |\n",
      "|       56 | DAN         | HARRIS       | 2006-02-15 04:34:33 |\n",
      "|       57 | JUDE        | CRUISE       | 2006-02-15 04:34:33 |\n",
      "|       58 | CHRISTIAN   | AKROYD       | 2006-02-15 04:34:33 |\n",
      "|       59 | DUSTIN      | TAUTOU       | 2006-02-15 04:34:33 |\n",
      "|       60 | HENRY       | BERRY        | 2006-02-15 04:34:33 |\n",
      "|       61 | CHRISTIAN   | NEESON       | 2006-02-15 04:34:33 |\n",
      "|       62 | JAYNE       | NEESON       | 2006-02-15 04:34:33 |\n",
      "|       63 | CAMERON     | WRAY         | 2006-02-15 04:34:33 |\n",
      "|       64 | RAY         | JOHANSSON    | 2006-02-15 04:34:33 |\n",
      "|       65 | ANGELA      | HUDSON       | 2006-02-15 04:34:33 |\n",
      "|       66 | MARY        | TANDY        | 2006-02-15 04:34:33 |\n",
      "|       67 | JESSICA     | BAILEY       | 2006-02-15 04:34:33 |\n",
      "|       68 | RIP         | WINSLET      | 2006-02-15 04:34:33 |\n",
      "|       69 | KENNETH     | PALTROW      | 2006-02-15 04:34:33 |\n",
      "|       70 | MICHELLE    | MCCONAUGHEY  | 2006-02-15 04:34:33 |\n",
      "|       71 | ADAM        | GRANT        | 2006-02-15 04:34:33 |\n",
      "|       72 | SEAN        | WILLIAMS     | 2006-02-15 04:34:33 |\n",
      "|       73 | GARY        | PENN         | 2006-02-15 04:34:33 |\n",
      "|       74 | MILLA       | KEITEL       | 2006-02-15 04:34:33 |\n",
      "|       75 | BURT        | POSEY        | 2006-02-15 04:34:33 |\n",
      "|       76 | ANGELINA    | ASTAIRE      | 2006-02-15 04:34:33 |\n",
      "|       77 | CARY        | MCCONAUGHEY  | 2006-02-15 04:34:33 |\n",
      "|       78 | GROUCHO     | SINATRA      | 2006-02-15 04:34:33 |\n",
      "|       79 | MAE         | HOFFMAN      | 2006-02-15 04:34:33 |\n",
      "|       80 | RALPH       | CRUZ         | 2006-02-15 04:34:33 |\n",
      "|       81 | SCARLETT    | DAMON        | 2006-02-15 04:34:33 |\n",
      "|       82 | WOODY       | JOLIE        | 2006-02-15 04:34:33 |\n",
      "|       83 | BEN         | WILLIS       | 2006-02-15 04:34:33 |\n",
      "|       84 | JAMES       | PITT         | 2006-02-15 04:34:33 |\n",
      "|       85 | MINNIE      | ZELLWEGER    | 2006-02-15 04:34:33 |\n",
      "|       86 | GREG        | CHAPLIN      | 2006-02-15 04:34:33 |\n",
      "|       87 | SPENCER     | PECK         | 2006-02-15 04:34:33 |\n",
      "|       88 | KENNETH     | PESCI        | 2006-02-15 04:34:33 |\n",
      "|       89 | CHARLIZE    | DENCH        | 2006-02-15 04:34:33 |\n",
      "|       90 | SEAN        | GUINESS      | 2006-02-15 04:34:33 |\n",
      "|       91 | CHRISTOPHER | BERRY        | 2006-02-15 04:34:33 |\n",
      "|       92 | KIRSTEN     | AKROYD       | 2006-02-15 04:34:33 |\n",
      "|       93 | ELLEN       | PRESLEY      | 2006-02-15 04:34:33 |\n",
      "|       94 | KENNETH     | TORN         | 2006-02-15 04:34:33 |\n",
      "|       95 | DARYL       | WAHLBERG     | 2006-02-15 04:34:33 |\n",
      "|       96 | GENE        | WILLIS       | 2006-02-15 04:34:33 |\n",
      "|       97 | MEG         | HAWKE        | 2006-02-15 04:34:33 |\n",
      "|       98 | CHRIS       | BRIDGES      | 2006-02-15 04:34:33 |\n",
      "|       99 | JIM         | MOSTEL       | 2006-02-15 04:34:33 |\n",
      "|      100 | SPENCER     | DEPP         | 2006-02-15 04:34:33 |\n",
      "|      101 | SUSAN       | DAVIS        | 2006-02-15 04:34:33 |\n",
      "|      102 | WALTER      | TORN         | 2006-02-15 04:34:33 |\n",
      "|      103 | MATTHEW     | LEIGH        | 2006-02-15 04:34:33 |\n",
      "|      104 | PENELOPE    | CRONYN       | 2006-02-15 04:34:33 |\n",
      "|      105 | SIDNEY      | CROWE        | 2006-02-15 04:34:33 |\n",
      "|      106 | GROUCHO     | DUNST        | 2006-02-15 04:34:33 |\n",
      "|      107 | GINA        | DEGENERES    | 2006-02-15 04:34:33 |\n",
      "|      108 | WARREN      | NOLTE        | 2006-02-15 04:34:33 |\n",
      "|      109 | SYLVESTER   | DERN         | 2006-02-15 04:34:33 |\n",
      "|      110 | SUSAN       | DAVIS        | 2006-02-15 04:34:33 |\n",
      "|      111 | CAMERON     | ZELLWEGER    | 2006-02-15 04:34:33 |\n",
      "|      112 | RUSSELL     | BACALL       | 2006-02-15 04:34:33 |\n",
      "|      113 | MORGAN      | HOPKINS      | 2006-02-15 04:34:33 |\n",
      "|      114 | MORGAN      | MCDORMAND    | 2006-02-15 04:34:33 |\n",
      "|      115 | HARRISON    | BALE         | 2006-02-15 04:34:33 |\n",
      "|      116 | DAN         | STREEP       | 2006-02-15 04:34:33 |\n",
      "|      117 | RENEE       | TRACY        | 2006-02-15 04:34:33 |\n",
      "|      118 | CUBA        | ALLEN        | 2006-02-15 04:34:33 |\n",
      "|      119 | WARREN      | JACKMAN      | 2006-02-15 04:34:33 |\n",
      "|      120 | PENELOPE    | MONROE       | 2006-02-15 04:34:33 |\n",
      "|      121 | LIZA        | BERGMAN      | 2006-02-15 04:34:33 |\n",
      "|      122 | SALMA       | NOLTE        | 2006-02-15 04:34:33 |\n",
      "|      123 | JULIANNE    | DENCH        | 2006-02-15 04:34:33 |\n",
      "|      124 | SCARLETT    | BENING       | 2006-02-15 04:34:33 |\n",
      "|      125 | ALBERT      | NOLTE        | 2006-02-15 04:34:33 |\n",
      "|      126 | FRANCES     | TOMEI        | 2006-02-15 04:34:33 |\n",
      "|      127 | KEVIN       | GARLAND      | 2006-02-15 04:34:33 |\n",
      "|      128 | CATE        | MCQUEEN      | 2006-02-15 04:34:33 |\n",
      "|      129 | DARYL       | CRAWFORD     | 2006-02-15 04:34:33 |\n",
      "|      130 | GRETA       | KEITEL       | 2006-02-15 04:34:33 |\n",
      "|      131 | JANE        | JACKMAN      | 2006-02-15 04:34:33 |\n",
      "|      132 | ADAM        | HOPPER       | 2006-02-15 04:34:33 |\n",
      "|      133 | RICHARD     | PENN         | 2006-02-15 04:34:33 |\n",
      "|      134 | GENE        | HOPKINS      | 2006-02-15 04:34:33 |\n",
      "|      135 | RITA        | REYNOLDS     | 2006-02-15 04:34:33 |\n",
      "|      136 | ED          | MANSFIELD    | 2006-02-15 04:34:33 |\n",
      "|      137 | MORGAN      | WILLIAMS     | 2006-02-15 04:34:33 |\n",
      "|      138 | LUCILLE     | DEE          | 2006-02-15 04:34:33 |\n",
      "|      139 | EWAN        | GOODING      | 2006-02-15 04:34:33 |\n",
      "|      140 | WHOOPI      | HURT         | 2006-02-15 04:34:33 |\n",
      "|      141 | CATE        | HARRIS       | 2006-02-15 04:34:33 |\n",
      "|      142 | JADA        | RYDER        | 2006-02-15 04:34:33 |\n",
      "|      143 | RIVER       | DEAN         | 2006-02-15 04:34:33 |\n",
      "|      144 | ANGELA      | WITHERSPOON  | 2006-02-15 04:34:33 |\n",
      "|      145 | KIM         | ALLEN        | 2006-02-15 04:34:33 |\n",
      "|      146 | ALBERT      | JOHANSSON    | 2006-02-15 04:34:33 |\n",
      "|      147 | FAY         | WINSLET      | 2006-02-15 04:34:33 |\n",
      "|      148 | EMILY       | DEE          | 2006-02-15 04:34:33 |\n",
      "|      149 | RUSSELL     | TEMPLE       | 2006-02-15 04:34:33 |\n",
      "|      150 | JAYNE       | NOLTE        | 2006-02-15 04:34:33 |\n",
      "|      151 | GEOFFREY    | HESTON       | 2006-02-15 04:34:33 |\n",
      "|      152 | BEN         | HARRIS       | 2006-02-15 04:34:33 |\n",
      "|      153 | MINNIE      | KILMER       | 2006-02-15 04:34:33 |\n",
      "|      154 | MERYL       | GIBSON       | 2006-02-15 04:34:33 |\n",
      "|      155 | IAN         | TANDY        | 2006-02-15 04:34:33 |\n",
      "|      156 | FAY         | WOOD         | 2006-02-15 04:34:33 |\n",
      "|      157 | GRETA       | MALDEN       | 2006-02-15 04:34:33 |\n",
      "|      158 | VIVIEN      | BASINGER     | 2006-02-15 04:34:33 |\n",
      "|      159 | LAURA       | BRODY        | 2006-02-15 04:34:33 |\n",
      "|      160 | CHRIS       | DEPP         | 2006-02-15 04:34:33 |\n",
      "|      161 | HARVEY      | HOPE         | 2006-02-15 04:34:33 |\n",
      "|      162 | OPRAH       | KILMER       | 2006-02-15 04:34:33 |\n",
      "|      163 | CHRISTOPHER | WEST         | 2006-02-15 04:34:33 |\n",
      "|      164 | HUMPHREY    | WILLIS       | 2006-02-15 04:34:33 |\n",
      "|      165 | AL          | GARLAND      | 2006-02-15 04:34:33 |\n",
      "|      166 | NICK        | DEGENERES    | 2006-02-15 04:34:33 |\n",
      "|      167 | LAURENCE    | BULLOCK      | 2006-02-15 04:34:33 |\n",
      "|      168 | WILL        | WILSON       | 2006-02-15 04:34:33 |\n",
      "|      169 | KENNETH     | HOFFMAN      | 2006-02-15 04:34:33 |\n",
      "|      170 | MENA        | HOPPER       | 2006-02-15 04:34:33 |\n",
      "|      171 | OLYMPIA     | PFEIFFER     | 2006-02-15 04:34:33 |\n",
      "|      172 | GROUCHO     | WILLIAMS     | 2006-02-15 04:34:33 |\n",
      "|      173 | ALAN        | DREYFUSS     | 2006-02-15 04:34:33 |\n",
      "|      174 | MICHAEL     | BENING       | 2006-02-15 04:34:33 |\n",
      "|      175 | WILLIAM     | HACKMAN      | 2006-02-15 04:34:33 |\n",
      "|      176 | JON         | CHASE        | 2006-02-15 04:34:33 |\n",
      "|      177 | GENE        | MCKELLEN     | 2006-02-15 04:34:33 |\n",
      "|      178 | LISA        | MONROE       | 2006-02-15 04:34:33 |\n",
      "|      179 | ED          | GUINESS      | 2006-02-15 04:34:33 |\n",
      "|      180 | JEFF        | SILVERSTONE  | 2006-02-15 04:34:33 |\n",
      "|      181 | MATTHEW     | CARREY       | 2006-02-15 04:34:33 |\n",
      "|      182 | DEBBIE      | AKROYD       | 2006-02-15 04:34:33 |\n",
      "|      183 | RUSSELL     | CLOSE        | 2006-02-15 04:34:33 |\n",
      "|      184 | HUMPHREY    | GARLAND      | 2006-02-15 04:34:33 |\n",
      "|      185 | MICHAEL     | BOLGER       | 2006-02-15 04:34:33 |\n",
      "|      186 | JULIA       | ZELLWEGER    | 2006-02-15 04:34:33 |\n",
      "|      187 | RENEE       | BALL         | 2006-02-15 04:34:33 |\n",
      "|      188 | ROCK        | DUKAKIS      | 2006-02-15 04:34:33 |\n",
      "|      189 | CUBA        | BIRCH        | 2006-02-15 04:34:33 |\n",
      "|      190 | AUDREY      | BAILEY       | 2006-02-15 04:34:33 |\n",
      "|      191 | GREGORY     | GOODING      | 2006-02-15 04:34:33 |\n",
      "|      192 | JOHN        | SUVARI       | 2006-02-15 04:34:33 |\n",
      "|      193 | BURT        | TEMPLE       | 2006-02-15 04:34:33 |\n",
      "|      194 | MERYL       | ALLEN        | 2006-02-15 04:34:33 |\n",
      "|      195 | JAYNE       | SILVERSTONE  | 2006-02-15 04:34:33 |\n",
      "|      196 | BELA        | WALKEN       | 2006-02-15 04:34:33 |\n",
      "|      197 | REESE       | WEST         | 2006-02-15 04:34:33 |\n",
      "|      198 | MARY        | KEITEL       | 2006-02-15 04:34:33 |\n",
      "|      199 | JULIA       | FAWCETT      | 2006-02-15 04:34:33 |\n",
      "|      200 | THORA       | TEMPLE       | 2006-02-15 04:34:33 |\n",
      "|      201 | JENNA       | ORTEGA       | 2024-09-25 04:53:25 |\n",
      "+----------+-------------+--------------+---------------------+\n"
     ]
    }
   ],
   "source": [
    "# Description: Inserted a new row into the actor table, inserted Jenna Ortega\n",
    "!mysql sakila -e \"INSERT INTO actor(actor_id, first_name, last_name) VALUES (201, 'JENNA', 'ORTEGA')\"\n",
    "!mysql sakila -e \"SELECT * FROM actor\""
   ]
  },
  {
   "cell_type": "markdown",
   "id": "3facd891-ec8f-45cd-a19d-002873f9a149",
   "metadata": {},
   "source": [
    "#### Write an UPDATE statement to update one or more rows from any one of the tables (*). Add a short comment above your SQL statement to describe the statement."
   ]
  },
  {
   "cell_type": "code",
   "execution_count": 22,
   "id": "59c6fefb-1dd6-49e7-abf5-8879aa62177e",
   "metadata": {},
   "outputs": [
    {
     "name": "stdout",
     "output_type": "stream",
     "text": [
      "+----------+-------------+--------------+---------------------+\n",
      "| actor_id | first_name  | last_name    | last_update         |\n",
      "+----------+-------------+--------------+---------------------+\n",
      "|        1 | PENELOPE    | GUINESS      | 2006-02-15 04:34:33 |\n",
      "|        2 | NICK        | WAHLBERG     | 2006-02-15 04:34:33 |\n",
      "|        3 | ED          | CHASE        | 2006-02-15 04:34:33 |\n",
      "|        4 | JENNIFER    | DAVIS        | 2006-02-15 04:34:33 |\n",
      "|        5 | JOHNNY      | LOLLOBRIGIDA | 2006-02-15 04:34:33 |\n",
      "|        6 | BETTE       | NICHOLSON    | 2006-02-15 04:34:33 |\n",
      "|        7 | GRACE       | MOSTEL       | 2006-02-15 04:34:33 |\n",
      "|        8 | MATTHEW     | JOHANSSON    | 2006-02-15 04:34:33 |\n",
      "|        9 | JOE         | SWANK        | 2006-02-15 04:34:33 |\n",
      "|       10 | CHRISTIAN   | GABLE        | 2006-02-15 04:34:33 |\n",
      "|       11 | ZERO        | CAGE         | 2006-02-15 04:34:33 |\n",
      "|       12 | KARL        | BERRY        | 2006-02-15 04:34:33 |\n",
      "|       13 | UMA         | WOOD         | 2006-02-15 04:34:33 |\n",
      "|       14 | VIVIEN      | BERGEN       | 2006-02-15 04:34:33 |\n",
      "|       15 | CUBA        | OLIVIER      | 2006-02-15 04:34:33 |\n",
      "|       16 | FRED        | COSTNER      | 2006-02-15 04:34:33 |\n",
      "|       17 | HELEN       | VOIGHT       | 2006-02-15 04:34:33 |\n",
      "|       18 | DAN         | TORN         | 2006-02-15 04:34:33 |\n",
      "|       19 | BOB         | FAWCETT      | 2006-02-15 04:34:33 |\n",
      "|       20 | LUCILLE     | TRACY        | 2006-02-15 04:34:33 |\n",
      "|       21 | KIRSTEN     | PALTROW      | 2006-02-15 04:34:33 |\n",
      "|       22 | ELVIS       | MARX         | 2006-02-15 04:34:33 |\n",
      "|       23 | SANDRA      | KILMER       | 2006-02-15 04:34:33 |\n",
      "|       24 | CAMERON     | STREEP       | 2006-02-15 04:34:33 |\n",
      "|       25 | KEVIN       | BLOOM        | 2006-02-15 04:34:33 |\n",
      "|       26 | RIP         | CRAWFORD     | 2006-02-15 04:34:33 |\n",
      "|       27 | JULIA       | MCQUEEN      | 2006-02-15 04:34:33 |\n",
      "|       28 | WOODY       | HOFFMAN      | 2006-02-15 04:34:33 |\n",
      "|       29 | ALEC        | WAYNE        | 2006-02-15 04:34:33 |\n",
      "|       30 | SANDRA      | PECK         | 2006-02-15 04:34:33 |\n",
      "|       31 | SISSY       | SOBIESKI     | 2006-02-15 04:34:33 |\n",
      "|       32 | TIM         | HACKMAN      | 2006-02-15 04:34:33 |\n",
      "|       33 | MILLA       | PECK         | 2006-02-15 04:34:33 |\n",
      "|       34 | AUDREY      | OLIVIER      | 2006-02-15 04:34:33 |\n",
      "|       35 | JUDY        | DEAN         | 2006-02-15 04:34:33 |\n",
      "|       36 | BURT        | DUKAKIS      | 2006-02-15 04:34:33 |\n",
      "|       37 | VAL         | BOLGER       | 2006-02-15 04:34:33 |\n",
      "|       38 | TOM         | MCKELLEN     | 2006-02-15 04:34:33 |\n",
      "|       39 | GOLDIE      | BRODY        | 2006-02-15 04:34:33 |\n",
      "|       40 | JOHNNY      | CAGE         | 2006-02-15 04:34:33 |\n",
      "|       41 | JODIE       | DEGENERES    | 2006-02-15 04:34:33 |\n",
      "|       42 | TOM         | MIRANDA      | 2006-02-15 04:34:33 |\n",
      "|       43 | KIRK        | JOVOVICH     | 2006-02-15 04:34:33 |\n",
      "|       44 | NICK        | STALLONE     | 2006-02-15 04:34:33 |\n",
      "|       45 | REESE       | KILMER       | 2006-02-15 04:34:33 |\n",
      "|       46 | PARKER      | GOLDBERG     | 2006-02-15 04:34:33 |\n",
      "|       47 | JULIA       | BARRYMORE    | 2006-02-15 04:34:33 |\n",
      "|       48 | FRANCES     | DAY-LEWIS    | 2006-02-15 04:34:33 |\n",
      "|       49 | ANNE        | CRONYN       | 2006-02-15 04:34:33 |\n",
      "|       50 | NATALIE     | HOPKINS      | 2006-02-15 04:34:33 |\n",
      "|       51 | GARY        | PHOENIX      | 2006-02-15 04:34:33 |\n",
      "|       52 | CARMEN      | HUNT         | 2006-02-15 04:34:33 |\n",
      "|       53 | MENA        | TEMPLE       | 2006-02-15 04:34:33 |\n",
      "|       54 | PENELOPE    | PINKETT      | 2006-02-15 04:34:33 |\n",
      "|       55 | FAY         | KILMER       | 2006-02-15 04:34:33 |\n",
      "|       56 | DAN         | HARRIS       | 2006-02-15 04:34:33 |\n",
      "|       57 | JUDE        | CRUISE       | 2006-02-15 04:34:33 |\n",
      "|       58 | CHRISTIAN   | AKROYD       | 2006-02-15 04:34:33 |\n",
      "|       59 | DUSTIN      | TAUTOU       | 2006-02-15 04:34:33 |\n",
      "|       60 | HENRY       | BERRY        | 2006-02-15 04:34:33 |\n",
      "|       61 | CHRISTIAN   | NEESON       | 2006-02-15 04:34:33 |\n",
      "|       62 | JAYNE       | NEESON       | 2006-02-15 04:34:33 |\n",
      "|       63 | CAMERON     | WRAY         | 2006-02-15 04:34:33 |\n",
      "|       64 | RAY         | JOHANSSON    | 2006-02-15 04:34:33 |\n",
      "|       65 | ANGELA      | HUDSON       | 2006-02-15 04:34:33 |\n",
      "|       66 | MARY        | TANDY        | 2006-02-15 04:34:33 |\n",
      "|       67 | JESSICA     | BAILEY       | 2006-02-15 04:34:33 |\n",
      "|       68 | RIP         | WINSLET      | 2006-02-15 04:34:33 |\n",
      "|       69 | KENNETH     | PALTROW      | 2006-02-15 04:34:33 |\n",
      "|       70 | MICHELLE    | MCCONAUGHEY  | 2006-02-15 04:34:33 |\n",
      "|       71 | ADAM        | GRANT        | 2006-02-15 04:34:33 |\n",
      "|       72 | SEAN        | WILLIAMS     | 2006-02-15 04:34:33 |\n",
      "|       73 | GARY        | PENN         | 2006-02-15 04:34:33 |\n",
      "|       74 | MILLA       | KEITEL       | 2006-02-15 04:34:33 |\n",
      "|       75 | BURT        | POSEY        | 2006-02-15 04:34:33 |\n",
      "|       76 | ANGELINA    | ASTAIRE      | 2006-02-15 04:34:33 |\n",
      "|       77 | CARY        | MCCONAUGHEY  | 2006-02-15 04:34:33 |\n",
      "|       78 | GROUCHO     | SINATRA      | 2006-02-15 04:34:33 |\n",
      "|       79 | MAE         | HOFFMAN      | 2006-02-15 04:34:33 |\n",
      "|       80 | RALPH       | CRUZ         | 2006-02-15 04:34:33 |\n",
      "|       81 | SCARLETT    | DAMON        | 2006-02-15 04:34:33 |\n",
      "|       82 | WOODY       | JOLIE        | 2006-02-15 04:34:33 |\n",
      "|       83 | BEN         | WILLIS       | 2006-02-15 04:34:33 |\n",
      "|       84 | JAMES       | PITT         | 2006-02-15 04:34:33 |\n",
      "|       85 | MINNIE      | ZELLWEGER    | 2006-02-15 04:34:33 |\n",
      "|       86 | GREG        | CHAPLIN      | 2006-02-15 04:34:33 |\n",
      "|       87 | SPENCER     | PECK         | 2006-02-15 04:34:33 |\n",
      "|       88 | KENNETH     | PESCI        | 2006-02-15 04:34:33 |\n",
      "|       89 | CHARLIZE    | DENCH        | 2006-02-15 04:34:33 |\n",
      "|       90 | SEAN        | GUINESS      | 2006-02-15 04:34:33 |\n",
      "|       91 | CHRISTOPHER | BERRY        | 2006-02-15 04:34:33 |\n",
      "|       92 | KIRSTEN     | AKROYD       | 2006-02-15 04:34:33 |\n",
      "|       93 | ELLEN       | PRESLEY      | 2006-02-15 04:34:33 |\n",
      "|       94 | KENNETH     | TORN         | 2006-02-15 04:34:33 |\n",
      "|       95 | DARYL       | WAHLBERG     | 2006-02-15 04:34:33 |\n",
      "|       96 | GENE        | WILLIS       | 2006-02-15 04:34:33 |\n",
      "|       97 | MEG         | HAWKE        | 2006-02-15 04:34:33 |\n",
      "|       98 | CHRIS       | BRIDGES      | 2006-02-15 04:34:33 |\n",
      "|       99 | JIM         | MOSTEL       | 2006-02-15 04:34:33 |\n",
      "|      100 | SPENCER     | DEPP         | 2006-02-15 04:34:33 |\n",
      "|      101 | SUSAN       | DAVIS        | 2006-02-15 04:34:33 |\n",
      "|      102 | WALTER      | TORN         | 2006-02-15 04:34:33 |\n",
      "|      103 | MATTHEW     | LEIGH        | 2006-02-15 04:34:33 |\n",
      "|      104 | PENELOPE    | CRONYN       | 2006-02-15 04:34:33 |\n",
      "|      105 | SIDNEY      | CROWE        | 2006-02-15 04:34:33 |\n",
      "|      106 | GROUCHO     | DUNST        | 2006-02-15 04:34:33 |\n",
      "|      107 | GINA        | DEGENERES    | 2006-02-15 04:34:33 |\n",
      "|      108 | WARREN      | NOLTE        | 2006-02-15 04:34:33 |\n",
      "|      109 | SYLVESTER   | DERN         | 2006-02-15 04:34:33 |\n",
      "|      110 | SUSAN       | DAVIS        | 2006-02-15 04:34:33 |\n",
      "|      111 | CAMERON     | ZELLWEGER    | 2006-02-15 04:34:33 |\n",
      "|      112 | RUSSELL     | BACALL       | 2006-02-15 04:34:33 |\n",
      "|      113 | MORGAN      | HOPKINS      | 2006-02-15 04:34:33 |\n",
      "|      114 | MORGAN      | MCDORMAND    | 2006-02-15 04:34:33 |\n",
      "|      115 | HARRISON    | BALE         | 2006-02-15 04:34:33 |\n",
      "|      116 | DAN         | STREEP       | 2006-02-15 04:34:33 |\n",
      "|      117 | RENEE       | TRACY        | 2006-02-15 04:34:33 |\n",
      "|      118 | CUBA        | ALLEN        | 2006-02-15 04:34:33 |\n",
      "|      119 | WARREN      | JACKMAN      | 2006-02-15 04:34:33 |\n",
      "|      120 | PENELOPE    | MONROE       | 2006-02-15 04:34:33 |\n",
      "|      121 | LIZA        | BERGMAN      | 2006-02-15 04:34:33 |\n",
      "|      122 | SALMA       | NOLTE        | 2006-02-15 04:34:33 |\n",
      "|      123 | JULIANNE    | DENCH        | 2006-02-15 04:34:33 |\n",
      "|      124 | SCARLETT    | BENING       | 2006-02-15 04:34:33 |\n",
      "|      125 | ALBERT      | NOLTE        | 2006-02-15 04:34:33 |\n",
      "|      126 | FRANCES     | TOMEI        | 2006-02-15 04:34:33 |\n",
      "|      127 | KEVIN       | GARLAND      | 2006-02-15 04:34:33 |\n",
      "|      128 | CATE        | MCQUEEN      | 2006-02-15 04:34:33 |\n",
      "|      129 | DARYL       | CRAWFORD     | 2006-02-15 04:34:33 |\n",
      "|      130 | GRETA       | KEITEL       | 2006-02-15 04:34:33 |\n",
      "|      131 | JANE        | JACKMAN      | 2006-02-15 04:34:33 |\n",
      "|      132 | ADAM        | HOPPER       | 2006-02-15 04:34:33 |\n",
      "|      133 | RICHARD     | PENN         | 2006-02-15 04:34:33 |\n",
      "|      134 | GENE        | HOPKINS      | 2006-02-15 04:34:33 |\n",
      "|      135 | RITA        | REYNOLDS     | 2006-02-15 04:34:33 |\n",
      "|      136 | ED          | MANSFIELD    | 2006-02-15 04:34:33 |\n",
      "|      137 | MORGAN      | WILLIAMS     | 2006-02-15 04:34:33 |\n",
      "|      138 | LUCILLE     | DEE          | 2006-02-15 04:34:33 |\n",
      "|      139 | EWAN        | GOODING      | 2006-02-15 04:34:33 |\n",
      "|      140 | WHOOPI      | HURT         | 2006-02-15 04:34:33 |\n",
      "|      141 | CATE        | HARRIS       | 2006-02-15 04:34:33 |\n",
      "|      142 | JADA        | RYDER        | 2006-02-15 04:34:33 |\n",
      "|      143 | RIVER       | DEAN         | 2006-02-15 04:34:33 |\n",
      "|      144 | ANGELA      | WITHERSPOON  | 2006-02-15 04:34:33 |\n",
      "|      145 | KIM         | ALLEN        | 2006-02-15 04:34:33 |\n",
      "|      146 | ALBERT      | JOHANSSON    | 2006-02-15 04:34:33 |\n",
      "|      147 | FAY         | WINSLET      | 2006-02-15 04:34:33 |\n",
      "|      148 | EMILY       | DEE          | 2006-02-15 04:34:33 |\n",
      "|      149 | RUSSELL     | TEMPLE       | 2006-02-15 04:34:33 |\n",
      "|      150 | JAYNE       | NOLTE        | 2006-02-15 04:34:33 |\n",
      "|      151 | GEOFFREY    | HESTON       | 2006-02-15 04:34:33 |\n",
      "|      152 | BEN         | HARRIS       | 2006-02-15 04:34:33 |\n",
      "|      153 | MINNIE      | KILMER       | 2006-02-15 04:34:33 |\n",
      "|      154 | MERYL       | GIBSON       | 2006-02-15 04:34:33 |\n",
      "|      155 | IAN         | TANDY        | 2006-02-15 04:34:33 |\n",
      "|      156 | FAY         | WOOD         | 2006-02-15 04:34:33 |\n",
      "|      157 | GRETA       | MALDEN       | 2006-02-15 04:34:33 |\n",
      "|      158 | VIVIEN      | BASINGER     | 2006-02-15 04:34:33 |\n",
      "|      159 | LAURA       | BRODY        | 2006-02-15 04:34:33 |\n",
      "|      160 | CHRIS       | DEPP         | 2006-02-15 04:34:33 |\n",
      "|      161 | HARVEY      | HOPE         | 2006-02-15 04:34:33 |\n",
      "|      162 | OPRAH       | KILMER       | 2006-02-15 04:34:33 |\n",
      "|      163 | CHRISTOPHER | WEST         | 2006-02-15 04:34:33 |\n",
      "|      164 | HUMPHREY    | WILLIS       | 2006-02-15 04:34:33 |\n",
      "|      165 | AL          | GARLAND      | 2006-02-15 04:34:33 |\n",
      "|      166 | NICK        | DEGENERES    | 2006-02-15 04:34:33 |\n",
      "|      167 | LAURENCE    | BULLOCK      | 2006-02-15 04:34:33 |\n",
      "|      168 | WILL        | WILSON       | 2006-02-15 04:34:33 |\n",
      "|      169 | KENNETH     | HOFFMAN      | 2006-02-15 04:34:33 |\n",
      "|      170 | MENA        | HOPPER       | 2006-02-15 04:34:33 |\n",
      "|      171 | OLYMPIA     | PFEIFFER     | 2006-02-15 04:34:33 |\n",
      "|      172 | GROUCHO     | WILLIAMS     | 2006-02-15 04:34:33 |\n",
      "|      173 | ALAN        | DREYFUSS     | 2006-02-15 04:34:33 |\n",
      "|      174 | MICHAEL     | BENING       | 2006-02-15 04:34:33 |\n",
      "|      175 | WILLIAM     | HACKMAN      | 2006-02-15 04:34:33 |\n",
      "|      176 | JON         | CHASE        | 2006-02-15 04:34:33 |\n",
      "|      177 | GENE        | MCKELLEN     | 2006-02-15 04:34:33 |\n",
      "|      178 | LISA        | MONROE       | 2006-02-15 04:34:33 |\n",
      "|      179 | ED          | GUINESS      | 2006-02-15 04:34:33 |\n",
      "|      180 | JEFF        | SILVERSTONE  | 2006-02-15 04:34:33 |\n",
      "|      181 | MATTHEW     | CARREY       | 2006-02-15 04:34:33 |\n",
      "|      182 | DEBBIE      | AKROYD       | 2006-02-15 04:34:33 |\n",
      "|      183 | RUSSELL     | CLOSE        | 2006-02-15 04:34:33 |\n",
      "|      184 | HUMPHREY    | GARLAND      | 2006-02-15 04:34:33 |\n",
      "|      185 | MICHAEL     | BOLGER       | 2006-02-15 04:34:33 |\n",
      "|      186 | JULIA       | ZELLWEGER    | 2006-02-15 04:34:33 |\n",
      "|      187 | RENEE       | BALL         | 2006-02-15 04:34:33 |\n",
      "|      188 | ROCK        | DUKAKIS      | 2006-02-15 04:34:33 |\n",
      "|      189 | CUBA        | BIRCH        | 2006-02-15 04:34:33 |\n",
      "|      190 | AUDREY      | BAILEY       | 2006-02-15 04:34:33 |\n",
      "|      191 | GREGORY     | GOODING      | 2006-02-15 04:34:33 |\n",
      "|      192 | JOHN        | SUVARI       | 2006-02-15 04:34:33 |\n",
      "|      193 | BURT        | TEMPLE       | 2006-02-15 04:34:33 |\n",
      "|      194 | MERYL       | ALLEN        | 2006-02-15 04:34:33 |\n",
      "|      195 | JAYNE       | SILVERSTONE  | 2006-02-15 04:34:33 |\n",
      "|      196 | BELA        | WALKEN       | 2006-02-15 04:34:33 |\n",
      "|      197 | REESE       | WEST         | 2006-02-15 04:34:33 |\n",
      "|      198 | MARY        | KEITEL       | 2006-02-15 04:34:33 |\n",
      "|      199 | JULIA       | FAWCETT      | 2006-02-15 04:34:33 |\n",
      "|      200 | THORA       | TEMPLE       | 2006-02-15 04:34:33 |\n",
      "|      201 | FLORENCE    | PUGH         | 2024-09-25 04:53:32 |\n",
      "+----------+-------------+--------------+---------------------+\n"
     ]
    }
   ],
   "source": [
    "# Description: Updated the recently added actress name in the actor table to say Florence Pugh instead of Jenna Ortega\n",
    "!mysql sakila -e \"UPDATE actor SET first_name = 'FLORENCE', last_name = 'PUGH' WHERE actor_id = 201\"\n",
    "!mysql sakila -e \"SELECT * FROM actor\""
   ]
  },
  {
   "cell_type": "markdown",
   "id": "e4e1610c-e074-4511-89de-1c1a16c1c164",
   "metadata": {},
   "source": [
    "#### Write a DELETE statement to delete one or more rows from any one of the tables (*). Add a short comment above your SQL statement to describe the statement."
   ]
  },
  {
   "cell_type": "code",
   "execution_count": 23,
   "id": "dcdf5089-0b18-45da-8f59-ac51a879dd25",
   "metadata": {},
   "outputs": [
    {
     "name": "stdout",
     "output_type": "stream",
     "text": [
      "+----------+-------------+--------------+---------------------+\n",
      "| actor_id | first_name  | last_name    | last_update         |\n",
      "+----------+-------------+--------------+---------------------+\n",
      "|        1 | PENELOPE    | GUINESS      | 2006-02-15 04:34:33 |\n",
      "|        2 | NICK        | WAHLBERG     | 2006-02-15 04:34:33 |\n",
      "|        3 | ED          | CHASE        | 2006-02-15 04:34:33 |\n",
      "|        4 | JENNIFER    | DAVIS        | 2006-02-15 04:34:33 |\n",
      "|        5 | JOHNNY      | LOLLOBRIGIDA | 2006-02-15 04:34:33 |\n",
      "|        6 | BETTE       | NICHOLSON    | 2006-02-15 04:34:33 |\n",
      "|        7 | GRACE       | MOSTEL       | 2006-02-15 04:34:33 |\n",
      "|        8 | MATTHEW     | JOHANSSON    | 2006-02-15 04:34:33 |\n",
      "|        9 | JOE         | SWANK        | 2006-02-15 04:34:33 |\n",
      "|       10 | CHRISTIAN   | GABLE        | 2006-02-15 04:34:33 |\n",
      "|       11 | ZERO        | CAGE         | 2006-02-15 04:34:33 |\n",
      "|       12 | KARL        | BERRY        | 2006-02-15 04:34:33 |\n",
      "|       13 | UMA         | WOOD         | 2006-02-15 04:34:33 |\n",
      "|       14 | VIVIEN      | BERGEN       | 2006-02-15 04:34:33 |\n",
      "|       15 | CUBA        | OLIVIER      | 2006-02-15 04:34:33 |\n",
      "|       16 | FRED        | COSTNER      | 2006-02-15 04:34:33 |\n",
      "|       17 | HELEN       | VOIGHT       | 2006-02-15 04:34:33 |\n",
      "|       18 | DAN         | TORN         | 2006-02-15 04:34:33 |\n",
      "|       19 | BOB         | FAWCETT      | 2006-02-15 04:34:33 |\n",
      "|       20 | LUCILLE     | TRACY        | 2006-02-15 04:34:33 |\n",
      "|       21 | KIRSTEN     | PALTROW      | 2006-02-15 04:34:33 |\n",
      "|       22 | ELVIS       | MARX         | 2006-02-15 04:34:33 |\n",
      "|       23 | SANDRA      | KILMER       | 2006-02-15 04:34:33 |\n",
      "|       24 | CAMERON     | STREEP       | 2006-02-15 04:34:33 |\n",
      "|       25 | KEVIN       | BLOOM        | 2006-02-15 04:34:33 |\n",
      "|       26 | RIP         | CRAWFORD     | 2006-02-15 04:34:33 |\n",
      "|       27 | JULIA       | MCQUEEN      | 2006-02-15 04:34:33 |\n",
      "|       28 | WOODY       | HOFFMAN      | 2006-02-15 04:34:33 |\n",
      "|       29 | ALEC        | WAYNE        | 2006-02-15 04:34:33 |\n",
      "|       30 | SANDRA      | PECK         | 2006-02-15 04:34:33 |\n",
      "|       31 | SISSY       | SOBIESKI     | 2006-02-15 04:34:33 |\n",
      "|       32 | TIM         | HACKMAN      | 2006-02-15 04:34:33 |\n",
      "|       33 | MILLA       | PECK         | 2006-02-15 04:34:33 |\n",
      "|       34 | AUDREY      | OLIVIER      | 2006-02-15 04:34:33 |\n",
      "|       35 | JUDY        | DEAN         | 2006-02-15 04:34:33 |\n",
      "|       36 | BURT        | DUKAKIS      | 2006-02-15 04:34:33 |\n",
      "|       37 | VAL         | BOLGER       | 2006-02-15 04:34:33 |\n",
      "|       38 | TOM         | MCKELLEN     | 2006-02-15 04:34:33 |\n",
      "|       39 | GOLDIE      | BRODY        | 2006-02-15 04:34:33 |\n",
      "|       40 | JOHNNY      | CAGE         | 2006-02-15 04:34:33 |\n",
      "|       41 | JODIE       | DEGENERES    | 2006-02-15 04:34:33 |\n",
      "|       42 | TOM         | MIRANDA      | 2006-02-15 04:34:33 |\n",
      "|       43 | KIRK        | JOVOVICH     | 2006-02-15 04:34:33 |\n",
      "|       44 | NICK        | STALLONE     | 2006-02-15 04:34:33 |\n",
      "|       45 | REESE       | KILMER       | 2006-02-15 04:34:33 |\n",
      "|       46 | PARKER      | GOLDBERG     | 2006-02-15 04:34:33 |\n",
      "|       47 | JULIA       | BARRYMORE    | 2006-02-15 04:34:33 |\n",
      "|       48 | FRANCES     | DAY-LEWIS    | 2006-02-15 04:34:33 |\n",
      "|       49 | ANNE        | CRONYN       | 2006-02-15 04:34:33 |\n",
      "|       50 | NATALIE     | HOPKINS      | 2006-02-15 04:34:33 |\n",
      "|       51 | GARY        | PHOENIX      | 2006-02-15 04:34:33 |\n",
      "|       52 | CARMEN      | HUNT         | 2006-02-15 04:34:33 |\n",
      "|       53 | MENA        | TEMPLE       | 2006-02-15 04:34:33 |\n",
      "|       54 | PENELOPE    | PINKETT      | 2006-02-15 04:34:33 |\n",
      "|       55 | FAY         | KILMER       | 2006-02-15 04:34:33 |\n",
      "|       56 | DAN         | HARRIS       | 2006-02-15 04:34:33 |\n",
      "|       57 | JUDE        | CRUISE       | 2006-02-15 04:34:33 |\n",
      "|       58 | CHRISTIAN   | AKROYD       | 2006-02-15 04:34:33 |\n",
      "|       59 | DUSTIN      | TAUTOU       | 2006-02-15 04:34:33 |\n",
      "|       60 | HENRY       | BERRY        | 2006-02-15 04:34:33 |\n",
      "|       61 | CHRISTIAN   | NEESON       | 2006-02-15 04:34:33 |\n",
      "|       62 | JAYNE       | NEESON       | 2006-02-15 04:34:33 |\n",
      "|       63 | CAMERON     | WRAY         | 2006-02-15 04:34:33 |\n",
      "|       64 | RAY         | JOHANSSON    | 2006-02-15 04:34:33 |\n",
      "|       65 | ANGELA      | HUDSON       | 2006-02-15 04:34:33 |\n",
      "|       66 | MARY        | TANDY        | 2006-02-15 04:34:33 |\n",
      "|       67 | JESSICA     | BAILEY       | 2006-02-15 04:34:33 |\n",
      "|       68 | RIP         | WINSLET      | 2006-02-15 04:34:33 |\n",
      "|       69 | KENNETH     | PALTROW      | 2006-02-15 04:34:33 |\n",
      "|       70 | MICHELLE    | MCCONAUGHEY  | 2006-02-15 04:34:33 |\n",
      "|       71 | ADAM        | GRANT        | 2006-02-15 04:34:33 |\n",
      "|       72 | SEAN        | WILLIAMS     | 2006-02-15 04:34:33 |\n",
      "|       73 | GARY        | PENN         | 2006-02-15 04:34:33 |\n",
      "|       74 | MILLA       | KEITEL       | 2006-02-15 04:34:33 |\n",
      "|       75 | BURT        | POSEY        | 2006-02-15 04:34:33 |\n",
      "|       76 | ANGELINA    | ASTAIRE      | 2006-02-15 04:34:33 |\n",
      "|       77 | CARY        | MCCONAUGHEY  | 2006-02-15 04:34:33 |\n",
      "|       78 | GROUCHO     | SINATRA      | 2006-02-15 04:34:33 |\n",
      "|       79 | MAE         | HOFFMAN      | 2006-02-15 04:34:33 |\n",
      "|       80 | RALPH       | CRUZ         | 2006-02-15 04:34:33 |\n",
      "|       81 | SCARLETT    | DAMON        | 2006-02-15 04:34:33 |\n",
      "|       82 | WOODY       | JOLIE        | 2006-02-15 04:34:33 |\n",
      "|       83 | BEN         | WILLIS       | 2006-02-15 04:34:33 |\n",
      "|       84 | JAMES       | PITT         | 2006-02-15 04:34:33 |\n",
      "|       85 | MINNIE      | ZELLWEGER    | 2006-02-15 04:34:33 |\n",
      "|       86 | GREG        | CHAPLIN      | 2006-02-15 04:34:33 |\n",
      "|       87 | SPENCER     | PECK         | 2006-02-15 04:34:33 |\n",
      "|       88 | KENNETH     | PESCI        | 2006-02-15 04:34:33 |\n",
      "|       89 | CHARLIZE    | DENCH        | 2006-02-15 04:34:33 |\n",
      "|       90 | SEAN        | GUINESS      | 2006-02-15 04:34:33 |\n",
      "|       91 | CHRISTOPHER | BERRY        | 2006-02-15 04:34:33 |\n",
      "|       92 | KIRSTEN     | AKROYD       | 2006-02-15 04:34:33 |\n",
      "|       93 | ELLEN       | PRESLEY      | 2006-02-15 04:34:33 |\n",
      "|       94 | KENNETH     | TORN         | 2006-02-15 04:34:33 |\n",
      "|       95 | DARYL       | WAHLBERG     | 2006-02-15 04:34:33 |\n",
      "|       96 | GENE        | WILLIS       | 2006-02-15 04:34:33 |\n",
      "|       97 | MEG         | HAWKE        | 2006-02-15 04:34:33 |\n",
      "|       98 | CHRIS       | BRIDGES      | 2006-02-15 04:34:33 |\n",
      "|       99 | JIM         | MOSTEL       | 2006-02-15 04:34:33 |\n",
      "|      100 | SPENCER     | DEPP         | 2006-02-15 04:34:33 |\n",
      "|      101 | SUSAN       | DAVIS        | 2006-02-15 04:34:33 |\n",
      "|      102 | WALTER      | TORN         | 2006-02-15 04:34:33 |\n",
      "|      103 | MATTHEW     | LEIGH        | 2006-02-15 04:34:33 |\n",
      "|      104 | PENELOPE    | CRONYN       | 2006-02-15 04:34:33 |\n",
      "|      105 | SIDNEY      | CROWE        | 2006-02-15 04:34:33 |\n",
      "|      106 | GROUCHO     | DUNST        | 2006-02-15 04:34:33 |\n",
      "|      107 | GINA        | DEGENERES    | 2006-02-15 04:34:33 |\n",
      "|      108 | WARREN      | NOLTE        | 2006-02-15 04:34:33 |\n",
      "|      109 | SYLVESTER   | DERN         | 2006-02-15 04:34:33 |\n",
      "|      110 | SUSAN       | DAVIS        | 2006-02-15 04:34:33 |\n",
      "|      111 | CAMERON     | ZELLWEGER    | 2006-02-15 04:34:33 |\n",
      "|      112 | RUSSELL     | BACALL       | 2006-02-15 04:34:33 |\n",
      "|      113 | MORGAN      | HOPKINS      | 2006-02-15 04:34:33 |\n",
      "|      114 | MORGAN      | MCDORMAND    | 2006-02-15 04:34:33 |\n",
      "|      115 | HARRISON    | BALE         | 2006-02-15 04:34:33 |\n",
      "|      116 | DAN         | STREEP       | 2006-02-15 04:34:33 |\n",
      "|      117 | RENEE       | TRACY        | 2006-02-15 04:34:33 |\n",
      "|      118 | CUBA        | ALLEN        | 2006-02-15 04:34:33 |\n",
      "|      119 | WARREN      | JACKMAN      | 2006-02-15 04:34:33 |\n",
      "|      120 | PENELOPE    | MONROE       | 2006-02-15 04:34:33 |\n",
      "|      121 | LIZA        | BERGMAN      | 2006-02-15 04:34:33 |\n",
      "|      122 | SALMA       | NOLTE        | 2006-02-15 04:34:33 |\n",
      "|      123 | JULIANNE    | DENCH        | 2006-02-15 04:34:33 |\n",
      "|      124 | SCARLETT    | BENING       | 2006-02-15 04:34:33 |\n",
      "|      125 | ALBERT      | NOLTE        | 2006-02-15 04:34:33 |\n",
      "|      126 | FRANCES     | TOMEI        | 2006-02-15 04:34:33 |\n",
      "|      127 | KEVIN       | GARLAND      | 2006-02-15 04:34:33 |\n",
      "|      128 | CATE        | MCQUEEN      | 2006-02-15 04:34:33 |\n",
      "|      129 | DARYL       | CRAWFORD     | 2006-02-15 04:34:33 |\n",
      "|      130 | GRETA       | KEITEL       | 2006-02-15 04:34:33 |\n",
      "|      131 | JANE        | JACKMAN      | 2006-02-15 04:34:33 |\n",
      "|      132 | ADAM        | HOPPER       | 2006-02-15 04:34:33 |\n",
      "|      133 | RICHARD     | PENN         | 2006-02-15 04:34:33 |\n",
      "|      134 | GENE        | HOPKINS      | 2006-02-15 04:34:33 |\n",
      "|      135 | RITA        | REYNOLDS     | 2006-02-15 04:34:33 |\n",
      "|      136 | ED          | MANSFIELD    | 2006-02-15 04:34:33 |\n",
      "|      137 | MORGAN      | WILLIAMS     | 2006-02-15 04:34:33 |\n",
      "|      138 | LUCILLE     | DEE          | 2006-02-15 04:34:33 |\n",
      "|      139 | EWAN        | GOODING      | 2006-02-15 04:34:33 |\n",
      "|      140 | WHOOPI      | HURT         | 2006-02-15 04:34:33 |\n",
      "|      141 | CATE        | HARRIS       | 2006-02-15 04:34:33 |\n",
      "|      142 | JADA        | RYDER        | 2006-02-15 04:34:33 |\n",
      "|      143 | RIVER       | DEAN         | 2006-02-15 04:34:33 |\n",
      "|      144 | ANGELA      | WITHERSPOON  | 2006-02-15 04:34:33 |\n",
      "|      145 | KIM         | ALLEN        | 2006-02-15 04:34:33 |\n",
      "|      146 | ALBERT      | JOHANSSON    | 2006-02-15 04:34:33 |\n",
      "|      147 | FAY         | WINSLET      | 2006-02-15 04:34:33 |\n",
      "|      148 | EMILY       | DEE          | 2006-02-15 04:34:33 |\n",
      "|      149 | RUSSELL     | TEMPLE       | 2006-02-15 04:34:33 |\n",
      "|      150 | JAYNE       | NOLTE        | 2006-02-15 04:34:33 |\n",
      "|      151 | GEOFFREY    | HESTON       | 2006-02-15 04:34:33 |\n",
      "|      152 | BEN         | HARRIS       | 2006-02-15 04:34:33 |\n",
      "|      153 | MINNIE      | KILMER       | 2006-02-15 04:34:33 |\n",
      "|      154 | MERYL       | GIBSON       | 2006-02-15 04:34:33 |\n",
      "|      155 | IAN         | TANDY        | 2006-02-15 04:34:33 |\n",
      "|      156 | FAY         | WOOD         | 2006-02-15 04:34:33 |\n",
      "|      157 | GRETA       | MALDEN       | 2006-02-15 04:34:33 |\n",
      "|      158 | VIVIEN      | BASINGER     | 2006-02-15 04:34:33 |\n",
      "|      159 | LAURA       | BRODY        | 2006-02-15 04:34:33 |\n",
      "|      160 | CHRIS       | DEPP         | 2006-02-15 04:34:33 |\n",
      "|      161 | HARVEY      | HOPE         | 2006-02-15 04:34:33 |\n",
      "|      162 | OPRAH       | KILMER       | 2006-02-15 04:34:33 |\n",
      "|      163 | CHRISTOPHER | WEST         | 2006-02-15 04:34:33 |\n",
      "|      164 | HUMPHREY    | WILLIS       | 2006-02-15 04:34:33 |\n",
      "|      165 | AL          | GARLAND      | 2006-02-15 04:34:33 |\n",
      "|      166 | NICK        | DEGENERES    | 2006-02-15 04:34:33 |\n",
      "|      167 | LAURENCE    | BULLOCK      | 2006-02-15 04:34:33 |\n",
      "|      168 | WILL        | WILSON       | 2006-02-15 04:34:33 |\n",
      "|      169 | KENNETH     | HOFFMAN      | 2006-02-15 04:34:33 |\n",
      "|      170 | MENA        | HOPPER       | 2006-02-15 04:34:33 |\n",
      "|      171 | OLYMPIA     | PFEIFFER     | 2006-02-15 04:34:33 |\n",
      "|      172 | GROUCHO     | WILLIAMS     | 2006-02-15 04:34:33 |\n",
      "|      173 | ALAN        | DREYFUSS     | 2006-02-15 04:34:33 |\n",
      "|      174 | MICHAEL     | BENING       | 2006-02-15 04:34:33 |\n",
      "|      175 | WILLIAM     | HACKMAN      | 2006-02-15 04:34:33 |\n",
      "|      176 | JON         | CHASE        | 2006-02-15 04:34:33 |\n",
      "|      177 | GENE        | MCKELLEN     | 2006-02-15 04:34:33 |\n",
      "|      178 | LISA        | MONROE       | 2006-02-15 04:34:33 |\n",
      "|      179 | ED          | GUINESS      | 2006-02-15 04:34:33 |\n",
      "|      180 | JEFF        | SILVERSTONE  | 2006-02-15 04:34:33 |\n",
      "|      181 | MATTHEW     | CARREY       | 2006-02-15 04:34:33 |\n",
      "|      182 | DEBBIE      | AKROYD       | 2006-02-15 04:34:33 |\n",
      "|      183 | RUSSELL     | CLOSE        | 2006-02-15 04:34:33 |\n",
      "|      184 | HUMPHREY    | GARLAND      | 2006-02-15 04:34:33 |\n",
      "|      185 | MICHAEL     | BOLGER       | 2006-02-15 04:34:33 |\n",
      "|      186 | JULIA       | ZELLWEGER    | 2006-02-15 04:34:33 |\n",
      "|      187 | RENEE       | BALL         | 2006-02-15 04:34:33 |\n",
      "|      188 | ROCK        | DUKAKIS      | 2006-02-15 04:34:33 |\n",
      "|      189 | CUBA        | BIRCH        | 2006-02-15 04:34:33 |\n",
      "|      190 | AUDREY      | BAILEY       | 2006-02-15 04:34:33 |\n",
      "|      191 | GREGORY     | GOODING      | 2006-02-15 04:34:33 |\n",
      "|      192 | JOHN        | SUVARI       | 2006-02-15 04:34:33 |\n",
      "|      193 | BURT        | TEMPLE       | 2006-02-15 04:34:33 |\n",
      "|      194 | MERYL       | ALLEN        | 2006-02-15 04:34:33 |\n",
      "|      195 | JAYNE       | SILVERSTONE  | 2006-02-15 04:34:33 |\n",
      "|      196 | BELA        | WALKEN       | 2006-02-15 04:34:33 |\n",
      "|      197 | REESE       | WEST         | 2006-02-15 04:34:33 |\n",
      "|      198 | MARY        | KEITEL       | 2006-02-15 04:34:33 |\n",
      "|      199 | JULIA       | FAWCETT      | 2006-02-15 04:34:33 |\n",
      "|      200 | THORA       | TEMPLE       | 2006-02-15 04:34:33 |\n",
      "+----------+-------------+--------------+---------------------+\n"
     ]
    }
   ],
   "source": [
    "# Description: Deleted the most recently added actress from the actor table\n",
    "!mysql sakila -e \"DELETE FROM actor WHERE actor_id = 201\"\n",
    "!mysql sakila -e \"SELECT * FROM actor\""
   ]
  },
  {
   "cell_type": "code",
   "execution_count": null,
   "id": "56f64903-9831-40c1-9dc5-03f8b68b5e7b",
   "metadata": {},
   "outputs": [],
   "source": []
  }
 ],
 "metadata": {
  "environment": {
   "kernel": "python3",
   "name": "tf2-cpu.2-11.m124",
   "type": "gcloud",
   "uri": "us-docker.pkg.dev/deeplearning-platform-release/gcr.io/tf2-cpu.2-11:m124"
  },
  "kernelspec": {
   "display_name": "Python 3",
   "language": "python",
   "name": "python3"
  },
  "language_info": {
   "codemirror_mode": {
    "name": "ipython",
    "version": 3
   },
   "file_extension": ".py",
   "mimetype": "text/x-python",
   "name": "python",
   "nbconvert_exporter": "python",
   "pygments_lexer": "ipython3",
   "version": "3.10.14"
  }
 },
 "nbformat": 4,
 "nbformat_minor": 5
}
